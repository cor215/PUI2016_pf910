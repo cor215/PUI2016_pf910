{
 "cells": [
  {
   "cell_type": "markdown",
   "metadata": {},
   "source": [
    "Formulate the Null hypothesis in words and in formulae for the 4 experiments below:\n",
    "\n",
    "Do diets help lose more fat than the exercise?\n",
    "Experimental setup: you have a test and a control sample.\n",
    "\n",
    "\n",
    "T = Test sample going for diet \n",
    "\n",
    "\n",
    "C = Control sample going for exercise\n",
    "\n",
    "\n",
    "Null Hypo: on average people having only exercise losing more  or equal fat than who only get diet.\n",
    "\n",
    "\n",
    "H0 = C-T>=0\n",
    "\n",
    "\n",
    "Alternative Hypo: on average people having only exercise losing less fat than who only get diet.\n",
    "\n",
    "\n",
    "H1= C- T < 0\n",
    "\n",
    "\n"
   ]
  },
  {
   "cell_type": "markdown",
   "metadata": {},
   "source": [
    "Do American trust the president?\n",
    "POLL RESULTS: On May 16, 1994, Newsweek reported the results of a public opinion poll that asked: “From everything you know about Bill Clinton, does he have the honesty and integrity you expect in a president?” (p. 23). Poll surveyed 518 adults and 233, or 0.45 of them answered yes.\n",
    "\n",
    "\n",
    "T = trust\n",
    "D = dont trust\n",
    "\n",
    "Null Hypo: on average the number of americans who  trust on presient Clinton is more than the number who dont.\n",
    "\n",
    "\n",
    "H0 = T-D>0\n",
    "\n",
    "\n",
    "Alternartive Hypo: on average the number of americans who  trust on presient Clinton is not more than the number who dont.\n",
    "\n",
    "\n",
    "H1 = T-D<=0\n"
   ]
  },
  {
   "cell_type": "markdown",
   "metadata": {},
   "source": [
    "Effectiveness of nicotine patches to quit smoking.\n",
    "Experimental setup: measure cessation rates for smokers randomly assigned to use a nicotine patch versus a placebo patch.\n",
    "\n",
    "N = nicotin use\n",
    "P = placebo\n",
    "\n",
    "\n",
    "Null Hypo = The  cessation rate for smokers using  nicotine patch is significantly less than or equal to the one who use placebo.\n",
    "\n",
    "H0 = p(N) - p(P)<= 0\n",
    "\n",
    "\n",
    "Alternative Hypo = The  cessation rate for smokers using  nicotine patch is significantly more to the one who use placebo.\n",
    "\n",
    "H0 = p(N) - p(P)> 0\n",
    "\n"
   ]
  },
  {
   "cell_type": "markdown",
   "metadata": {},
   "source": [
    "Quantify the danger of smoking for pregnant women.\n",
    "Experimemtal setup: measure IQ of children at ages 1, 2, 3, and 4 years of age.\n",
    "\n",
    "H = High IQ\n",
    "\n",
    "L = Low IQ\n",
    "\n",
    "Null Hypo: On average the percentage of having children who have high IQ from 1 to  4 years old between women who smoke during pregnancy is equal or more  than having chilldren with low IQ.\n",
    "\n",
    "H0 = H-L>=0\n",
    "\n",
    "\n",
    "\n",
    "Alternative Hypo: On average the percentage of having children who have low IQ from 1 to  4 years old  between women who smoke during pregnancy is lower than having children with low IQ.\n",
    "\n",
    "\n",
    "\n",
    "H1 = H-L<0"
   ]
  },
  {
   "cell_type": "code",
   "execution_count": null,
   "metadata": {
    "collapsed": true
   },
   "outputs": [],
   "source": []
  }
 ],
 "metadata": {
  "kernelspec": {
   "display_name": "PUI2016_Python3",
   "language": "python",
   "name": "pui2016_python3"
  },
  "language_info": {
   "codemirror_mode": {
    "name": "ipython",
    "version": 3
   },
   "file_extension": ".py",
   "mimetype": "text/x-python",
   "name": "python",
   "nbconvert_exporter": "python",
   "pygments_lexer": "ipython3",
   "version": "3.5.2"
  }
 },
 "nbformat": 4,
 "nbformat_minor": 0
}
