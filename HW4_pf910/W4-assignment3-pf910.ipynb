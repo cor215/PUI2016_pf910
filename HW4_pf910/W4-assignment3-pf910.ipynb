{
 "cells": [
  {
   "cell_type": "markdown",
   "metadata": {},
   "source": [
    "#employablitiy , % you can measure. everything but, that's get back . everything 2 of these columns program group rvr employed Null Hypo: the perce people in control group (p0) the percentage in test group p1 h0= p0-p1>=0 Ha= p0-p1<0"
   ]
  },
  {
   "cell_type": "code",
   "execution_count": 5,
   "metadata": {
    "collapsed": true
   },
   "outputs": [],
   "source": [
    "from __future__ import print_function, division\n",
    "import numpy as np"
   ]
  },
  {
   "cell_type": "code",
   "execution_count": 6,
   "metadata": {
    "collapsed": true
   },
   "outputs": [],
   "source": [
    "P0 = 3.5 / 100\n",
    "P1 = 70.1 / 100\n",
    "alpha = 0.05\n",
    "n1 = 564.\n",
    "n0 = 409."
   ]
  },
  {
   "cell_type": "code",
   "execution_count": 63,
   "metadata": {
    "collapsed": true
   },
   "outputs": [],
   "source": [
    "def z(p0, p1, n1, n2, p_t):\n",
    "    num = p1-p0\n",
    "    den= np.sqrt(((p_t * (1 - p_t)/n1)+(p_t * (1 - p_t )/n2)))\n",
    "    print (num, den)\n",
    "    return(num/den)"
   ]
  },
  {
   "cell_type": "code",
   "execution_count": 64,
   "metadata": {
    "collapsed": true
   },
   "outputs": [],
   "source": [
    "def p_tot(p0, p1, n0, n1):\n",
    "    return (p0*n0 + p1*n1)/ (n0+n1)"
   ]
  },
  {
   "cell_type": "code",
   "execution_count": 65,
   "metadata": {
    "collapsed": false
   },
   "outputs": [
    {
     "name": "stdout",
     "output_type": "stream",
     "text": [
      "0.6659999999999999 0.0320658086057\n"
     ]
    },
    {
     "data": {
      "text/plain": [
       "20.769786540820895"
      ]
     },
     "execution_count": 65,
     "metadata": {},
     "output_type": "execute_result"
    }
   ],
   "source": [
    "z(P0, P1, n0, n1, p_tot(P0, P1, n0, n1))"
   ]
  },
  {
   "cell_type": "code",
   "execution_count": null,
   "metadata": {
    "collapsed": true
   },
   "outputs": [],
   "source": []
  },
  {
   "cell_type": "code",
   "execution_count": 66,
   "metadata": {
    "collapsed": false
   },
   "outputs": [
    {
     "name": "stdout",
     "output_type": "stream",
     "text": [
      "0.1 0.11699999999999999\n"
     ]
    }
   ],
   "source": [
    "P0_0 = 11.7 / 100\n",
    "P1_0 = 10. / 100\n",
    "alpha = 0.05\n",
    "n1_0 = 568.\n",
    "n0_0 = 409.\n",
    "\n",
    "print (P1_0, P0_0)"
   ]
  },
  {
   "cell_type": "code",
   "execution_count": 67,
   "metadata": {
    "collapsed": false
   },
   "outputs": [
    {
     "name": "stdout",
     "output_type": "stream",
     "text": [
      "-0.016999999999999987 0.0320183127101\n"
     ]
    },
    {
     "data": {
      "text/plain": [
       "-0.53094615428092262"
      ]
     },
     "execution_count": 67,
     "metadata": {},
     "output_type": "execute_result"
    }
   ],
   "source": [
    "z(P0_0, P1_0, n0_0, n1_0, p_tot(P0, P1, n0, n1))"
   ]
  },
  {
   "cell_type": "code",
   "execution_count": 70,
   "metadata": {
    "collapsed": false
   },
   "outputs": [
    {
     "name": "stdout",
     "output_type": "stream",
     "text": [
      "-0.5666666666666668\n"
     ]
    }
   ],
   "source": [
    "print (-0.017/0.03)"
   ]
  },
  {
   "cell_type": "code",
   "execution_count": 68,
   "metadata": {
    "collapsed": false
   },
   "outputs": [],
   "source": [
    "Nt_0 = P0_0 * n0_0\n",
    "Nt_1 = P1_0 * n1_0"
   ]
  },
  {
   "cell_type": "code",
   "execution_count": 56,
   "metadata": {
    "collapsed": false
   },
   "outputs": [
    {
     "name": "stdout",
     "output_type": "stream",
     "text": [
      "0.11699999999999999 409.0 568.0 0.0200556791612\n"
     ]
    }
   ],
   "source": [
    "sp_stdev = lambda p, n: np.sqrt( p * ( 1 - p ) / n[0] +  p * ( 1 - p ) / n[1]  )\n",
    "\n",
    "\n",
    "sp_stdev_2y = sp_stdev(( Nt_0 + Nt_1) / (n0_0 + n1_0), [n0_0, n1_0])\n",
    "print (P0_0, n0_0, n1_0, sp_stdev_2y)"
   ]
  },
  {
   "cell_type": "code",
   "execution_count": 72,
   "metadata": {
    "collapsed": false
   },
   "outputs": [
    {
     "name": "stdout",
     "output_type": "stream",
     "text": [
      "-0.016999999999999987\n"
     ]
    }
   ],
   "source": [
    "zscore = lambda p0_0, p1_0, s : (p0_0 - p1_0)/ s\n",
    "z_2y = zscore(P1_0, P0_0, sp_stdev_2y)\n",
    "print (z_2y)"
   ]
  },
  {
   "cell_type": "code",
   "execution_count": 38,
   "metadata": {
    "collapsed": false,
    "scrolled": true
   },
   "outputs": [
    {
     "name": "stdout",
     "output_type": "stream",
     "text": [
      "is the p value 0.00 smaller than the critical value 0.05? \n",
      "YES!\n",
      "the Null hypothesis is rejected\n"
     ]
    }
   ],
   "source": [
    "p_2y = 1 - 0.9998\n",
    "\n",
    "\n",
    "def report_result(p,a):\n",
    "    print ('is the p value {0:.2f} smaller than the critical value {1:.2f}? '.format(p,a))\n",
    "    if p < a:\n",
    "        print (\"YES!\")\n",
    "    else: \n",
    "        print (\"NO!\")\n",
    "    \n",
    "    print ('the Null hypothesis is {}'.format( 'rejected' if p < a  else 'not rejected') )\n",
    "\n",
    "    \n",
    "report_result(p_2y,alpha)"
   ]
  },
  {
   "cell_type": "code",
   "execution_count": null,
   "metadata": {
    "collapsed": true
   },
   "outputs": [],
   "source": []
  },
  {
   "cell_type": "code",
   "execution_count": 74,
   "metadata": {
    "collapsed": false
   },
   "outputs": [
    {
     "name": "stdout",
     "output_type": "stream",
     "text": [
      "427.60268096188474\n"
     ]
    }
   ],
   "source": [
    "chisqstat= lambda N, values, expect_num : ((values[0][0] * values[1][1]\n",
    "                                            -values[0][1] * values[1][0])**2) * N / expect_num\n",
    "Ntot = 977 # a + b + c + d = tot\n",
    "expected_num = 568 * 409 * 409.679 * 568.912\n",
    "sample_values = [[0.701 * 564, 0.299 * 564], [0.0305 * 409, 0.965 * 409]]\n",
    " \n",
    "\n",
    "print (chisqstat(Ntot,  sample_values, expected_num))"
   ]
  },
  {
   "cell_type": "code",
   "execution_count": null,
   "metadata": {
    "collapsed": true
   },
   "outputs": [],
   "source": []
  },
  {
   "cell_type": "markdown",
   "metadata": {},
   "source": [
    "|                |  convicted of a felony\t  |  not convicted      | Total |\n",
    "|-------------------------------------------------------------------------------\n",
    "|test sample|    0.10 *568 | 0.9 * 568| 568\n",
    "|Control sample|  0.117*409  |  0.883*409 |409\n",
    "|                 | 104.653   |  872.347  |977"
   ]
  },
  {
   "cell_type": "code",
   "execution_count": 75,
   "metadata": {
    "collapsed": false
   },
   "outputs": [
    {
     "name": "stdout",
     "output_type": "stream",
     "text": [
      "0.7184939175052886\n"
     ]
    }
   ],
   "source": [
    "chisqstat= lambda N, values, expect_num : ((values[0][0] * values[1][1]\n",
    "                                            -values[0][1] * values[1][0])**2) * N / expect_num\n",
    "Ntot = 977 # a + b + c + d = tot\n",
    "expected_num = 568 * 409 * 104.653 * 872.347\n",
    "sample_values = [[0.10 * 568, 0.9 * 568], [0.117 * 409, 0.883 * 409]]\n",
    " \n",
    "\n",
    "print (chisqstat(Ntot,  sample_values, expected_num))"
   ]
  },
  {
   "cell_type": "markdown",
   "metadata": {},
   "source": [
    "The probability to reject the Null is between %25 and %50 and you can not do it."
   ]
  }
 ],
 "metadata": {
  "kernelspec": {
   "display_name": "PUI2016_Python3",
   "language": "python",
   "name": "pui2016_python3"
  },
  "language_info": {
   "codemirror_mode": {
    "name": "ipython",
    "version": 3
   },
   "file_extension": ".py",
   "mimetype": "text/x-python",
   "name": "python",
   "nbconvert_exporter": "python",
   "pygments_lexer": "ipython3",
   "version": "3.5.2"
  }
 },
 "nbformat": 4,
 "nbformat_minor": 0
}
